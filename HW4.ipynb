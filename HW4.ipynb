{
 "cells": [
  {
   "cell_type": "code",
   "execution_count": 1,
   "metadata": {},
   "outputs": [],
   "source": [
    "import gym"
   ]
  },
  {
   "cell_type": "code",
   "execution_count": 2,
   "metadata": {},
   "outputs": [
    {
     "name": "stdout",
     "output_type": "stream",
     "text": [
      "+---------+\n",
      "|R: | : :\u001b[35mG\u001b[0m|\n",
      "| :\u001b[43m \u001b[0m: : : |\n",
      "| : : : : |\n",
      "| | : | : |\n",
      "|\u001b[34;1mY\u001b[0m| : |B: |\n",
      "+---------+\n",
      "\n"
     ]
    }
   ],
   "source": [
    "import gym\n",
    "\n",
    "env = gym.make(\"Taxi-v2\").env\n",
    "\n",
    "env.render()"
   ]
  },
  {
   "cell_type": "code",
   "execution_count": 3,
   "metadata": {},
   "outputs": [],
   "source": [
    "import numpy as np\n",
    "q_table = np.zeros([env.observation_space.n, env.action_space.n])"
   ]
  },
  {
   "cell_type": "code",
   "execution_count": 4,
   "metadata": {},
   "outputs": [
    {
     "name": "stdout",
     "output_type": "stream",
     "text": [
      "Episode: 2500\n",
      "Training finished.\n",
      "\n",
      "CPU times: user 1min 55s, sys: 2.41 s, total: 1min 58s\n",
      "Wall time: 1min 56s\n"
     ]
    }
   ],
   "source": [
    "%%time\n",
    "\"\"\"Training the agent\"\"\"\n",
    "\n",
    "import random\n",
    "from IPython.display import clear_output\n",
    "\n",
    "# Hyperparameters\n",
    "alpha = 1.0\n",
    "gamma = 0.9\n",
    "epsilon = 1.0\n",
    "\n",
    "for i in range(1, 2501):\n",
    "    state = env.reset()\n",
    "\n",
    "    done = False\n",
    "    \n",
    "    while not done:\n",
    "#         if random.uniform(0, 1) < epsilon:\n",
    "        action = env.action_space.sample() # Explore action space\n",
    "#         else:\n",
    "#             action = np.argmax(q_table[state]) # Exploit learned values\n",
    "\n",
    "        next_state, reward, done, info = env.step(action) \n",
    "    \n",
    "        old_value = q_table[state, action]\n",
    "        \n",
    "        if reward == 20:\n",
    "            next_max = 0\n",
    "        else:\n",
    "            next_max = np.max(q_table[next_state])\n",
    "        \n",
    "        new_value = (1 - alpha) * old_value + alpha * (reward + gamma * next_max)\n",
    "        q_table[state, action] = new_value\n",
    "\n",
    "        state = next_state\n",
    "        \n",
    "    if i % 100 == 0:\n",
    "        clear_output(wait=True)\n",
    "        print(\"Episode: {}\".format(i))\n",
    "\n",
    "print(\"Training finished.\\n\")\n"
   ]
  },
  {
   "cell_type": "code",
   "execution_count": 5,
   "metadata": {},
   "outputs": [
    {
     "name": "stdout",
     "output_type": "stream",
     "text": [
      "-11.374402515013\n",
      "4.348907000000002\n",
      "-0.5856821172999982\n",
      "9.683000000000002\n",
      "-12.82326603716053\n"
     ]
    }
   ],
   "source": [
    "print(q_table[462, 4])\n",
    "print(q_table[398, 3])\n",
    "print(q_table[253, 0])\n",
    "print(q_table[377, 1])\n",
    "print(q_table[83, 5])"
   ]
  },
  {
   "cell_type": "code",
   "execution_count": 6,
   "metadata": {},
   "outputs": [
    {
     "name": "stdout",
     "output_type": "stream",
     "text": [
      "-7.377385329999997\n",
      "-10.527113905569998\n",
      "-12.82326603716053\n",
      "0.46035320300000193\n",
      "-1.5271139055699985\n",
      "-4.651092999999998\n",
      "-1.2852999999999977\n",
      "-9.585682117299998\n",
      "14.3\n",
      "-2.3744025150129984\n"
     ]
    }
   ],
   "source": [
    "print(q_table[64, 4])\n",
    "print(q_table[82, 5])\n",
    "print(q_table[424, 4])\n",
    "print(q_table[184, 3])\n",
    "print(q_table[464, 2])\n",
    "print(q_table[378, 5])\n",
    "print(q_table[336, 4])\n",
    "print(q_table[221, 5])\n",
    "print(q_table[36, 1])\n",
    "print(q_table[246, 2])"
   ]
  },
  {
   "cell_type": "code",
   "execution_count": null,
   "metadata": {},
   "outputs": [],
   "source": []
  }
 ],
 "metadata": {
  "kernelspec": {
   "display_name": "Python 3",
   "language": "python",
   "name": "python3"
  },
  "language_info": {
   "codemirror_mode": {
    "name": "ipython",
    "version": 3
   },
   "file_extension": ".py",
   "mimetype": "text/x-python",
   "name": "python",
   "nbconvert_exporter": "python",
   "pygments_lexer": "ipython3",
   "version": "3.4.5"
  }
 },
 "nbformat": 4,
 "nbformat_minor": 2
}
