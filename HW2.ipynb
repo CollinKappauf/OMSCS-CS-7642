{
 "cells": [
  {
   "cell_type": "markdown",
   "metadata": {},
   "source": [
    "## Temporal Difference Learning"
   ]
  },
  {
   "cell_type": "markdown",
   "metadata": {},
   "source": [
    "\\begin{equation*}\n",
    "TD\\left( \\lambda \\right) = \\sum_{k=1}^\\infty \\left( 1 - \\lambda \\right)\\lambda^{k-1}E_k\n",
    "\\end{equation*}"
   ]
  },
  {
   "cell_type": "markdown",
   "metadata": {},
   "source": [
    "Example\n",
    "```\n",
    "probToState1 = 0.5\n",
    "valueEstimates = {0, 3, 8, 2, 1, 2, 0}\n",
    "rewards = {0, 0, 0, 4, 1, 1, 1}\n",
    "\n",
    "```\n",
    "when\n",
    "\n",
    "\\begin{equation*}\n",
    "\\gamma = 1 \\\\\n",
    "\\end{equation*}"
   ]
  },
  {
   "cell_type": "markdown",
   "metadata": {},
   "source": [
    "Solving it with the MDP as shown in the Quiz: Value Computation Example,\n",
    "\n",
    "\\begin{equation*}\n",
    "V(S_t) = r + \\gamma V(S_{t+1})\n",
    "\\end{equation*}"
   ]
  },
  {
   "cell_type": "markdown",
   "metadata": {},
   "source": [
    "So\n",
    "\n",
    "\\begin{equation*}\n",
    "TD\\left( \\lambda \\right)\n",
    "\\end{equation*}\n",
    "\n",
    "is going backwards from the furthest state possible."
   ]
  },
  {
   "cell_type": "markdown",
   "metadata": {},
   "source": [
    "\\begin{equation*}\n",
    "V(S_6) = 0 \\\\\n",
    "V(S_5) = 1 + V(S_6) = 1 \\\\\n",
    "V(S_4) = 1 + V(S_5) = 2 \\\\\n",
    "V(S_3) = 1 + V(S_3) = 3 \\\\\n",
    "V(S_2) = 4 + V(S_2) = 7 \\\\\n",
    "V(S_1) = 0 + V(S_2) = 3 \\\\\n",
    "V(S_0) = 0 + (0.5)(3) + (0.5)(7) = 5.0 \\\\\n",
    " = TD(1) = E_{\\infty}\n",
    "\\end{equation*}"
   ]
  },
  {
   "cell_type": "markdown",
   "metadata": {},
   "source": [
    "Similarly,\n",
    "\n",
    "\\begin{equation*}\n",
    "TD(0) \n",
    "\\end{equation*}\n",
    "\n",
    "is only from one step ahead.\n",
    "\n",
    "\\begin{equation*}\n",
    "TD(0) = E_1 \\\\\n",
    "= 0 + (0.5)(3) + (0.5)(8) = 5.5\n",
    "\\end{equation*}"
   ]
  },
  {
   "cell_type": "markdown",
   "metadata": {},
   "source": [
    "using same analytical approach...\n",
    "\n",
    "\\begin{equation*}\n",
    "E_2 = 4 \\\\\n",
    "E_3 = 4 \\\\\n",
    "E_4 = 6 \\\\\n",
    "E_5 = 5 \\\\\n",
    "E_6 = 5 \\\\\n",
    "...\n",
    "\\end{equation*}"
   ]
  },
  {
   "cell_type": "markdown",
   "metadata": {},
   "source": [
    "So we solve the polynomial where\n",
    "\n",
    "\\begin{equation*}\n",
    "TD(\\lambda) = TD(1)\n",
    "\\end{equation*}\n",
    "\n",
    "Hence,\n",
    "\n",
    "\\begin{equation*}\n",
    "TD(1) = (1 - \\lambda)E_1 + \\lambda(1 - \\lambda)E_2 + \\lambda^2(1 - \\lambda)E_3 + \\lambda^3(1 - \\lambda)E_4 + \\lambda^4(1 - \\lambda)E_5 + ... + (1 - \\lambda)\\lambda^\\infty E_{\\infty}\n",
    "\\end{equation*}\n",
    "\n",
    "Simplified to\n",
    "\n",
    "\\begin{equation*}\n",
    "(E_6 - E_5)\\lambda^5E_5 + (E_5 - E_4)\\lambda^4 + (E_4 - E_3)\\lambda^3 + (E_3 - E_2)\\lambda^2 + (E_2 - E_1)\\lambda + E_1 - TD(1) = 0\n",
    "\\end{equation*}"
   ]
  },
  {
   "cell_type": "code",
   "execution_count": 91,
   "metadata": {},
   "outputs": [],
   "source": [
    "import numpy as np"
   ]
  },
  {
   "cell_type": "code",
   "execution_count": 93,
   "metadata": {},
   "outputs": [],
   "source": [
    "def getTD1(probToState1, valueEstimates, rewards):\n",
    "    VS6 = 0\n",
    "    VS5 = VS6 + rewards[6]\n",
    "    VS4 = VS5 + rewards[5]\n",
    "    VS3 = VS4 + rewards[4]\n",
    "    \n",
    "    VS2 = VS3 + rewards[3]\n",
    "    VS1 = VS3 + rewards[2]\n",
    "    \n",
    "    VS0 = probToState1 * (VS1 + rewards[0]) + (1 - probToState1) * (VS2 + rewards[1])\n",
    "    \n",
    "    return VS0"
   ]
  },
  {
   "cell_type": "code",
   "execution_count": 94,
   "metadata": {},
   "outputs": [],
   "source": [
    "def getE1(probToState1, valueEstimates, rewards):\n",
    "    VS1 = valueEstimates[1]\n",
    "    VS2 = valueEstimates[2]\n",
    "    \n",
    "    VS0 = probToState1 * (VS1 + rewards[0]) + (1 - probToState1) * (VS2 + rewards[1])\n",
    "    \n",
    "    return VS0"
   ]
  },
  {
   "cell_type": "code",
   "execution_count": 95,
   "metadata": {},
   "outputs": [],
   "source": [
    "def getE2(probToState1, valueEstimates, rewards):\n",
    "    VS3 = valueEstimates[3]\n",
    "    VS1 = rewards[2] + VS3\n",
    "    VS2 = rewards[3] + VS3\n",
    "    \n",
    "    VS0 = probToState1 * (VS1 + rewards[0]) + (1 - probToState1) * (VS2 + rewards[1])\n",
    "    \n",
    "    return VS0"
   ]
  },
  {
   "cell_type": "code",
   "execution_count": 96,
   "metadata": {},
   "outputs": [],
   "source": [
    "def getE3(probToState1, valueEstimates, rewards):\n",
    "    VS4 = valueEstimates[4]\n",
    "    VS3 = rewards[4] + VS4\n",
    "    VS1 = rewards[2] + VS3\n",
    "    VS2 = rewards[3] + VS3\n",
    "    \n",
    "    VS0 = probToState1 * (VS1 + rewards[0]) + (1 - probToState1) * (VS2 + rewards[1])\n",
    "    \n",
    "    return VS0"
   ]
  },
  {
   "cell_type": "code",
   "execution_count": 97,
   "metadata": {},
   "outputs": [],
   "source": [
    "def getE4(probToState1, valueEstimates, rewards):\n",
    "    VS5 = valueEstimates[5]\n",
    "    VS4 = rewards[5] + VS5\n",
    "    VS3 = rewards[4] + VS4\n",
    "    VS1 = rewards[2] + VS3\n",
    "    VS2 = rewards[3] + VS3\n",
    "    \n",
    "    VS0 = probToState1 * (VS1 + rewards[0]) + (1 - probToState1) * (VS2 + rewards[1])\n",
    "    \n",
    "    return VS0"
   ]
  },
  {
   "cell_type": "code",
   "execution_count": 98,
   "metadata": {},
   "outputs": [],
   "source": [
    "def getE5(probToState1, valueEstimates, rewards):\n",
    "    VS6 = valueEstimates[6]\n",
    "    VS5 = rewards[6] + VS6\n",
    "    VS4 = rewards[5] + VS5\n",
    "    VS3 = rewards[4] + VS4\n",
    "    VS1 = rewards[2] + VS3\n",
    "    VS2 = rewards[3] + VS3\n",
    "    \n",
    "    VS0 = probToState1 * (VS1 + rewards[0]) + (1 - probToState1) * (VS2 + rewards[1])\n",
    "    \n",
    "    return VS0"
   ]
  },
  {
   "cell_type": "code",
   "execution_count": 99,
   "metadata": {},
   "outputs": [],
   "source": [
    "def getE6(probToState1, valueEstimates, rewards):\n",
    "    VS6 = 0 + 0 # no reward no value from \"S7\"\n",
    "    VS5 = rewards[6] + VS6\n",
    "    VS4 = rewards[5] + VS5\n",
    "    VS3 = rewards[4] + VS4\n",
    "    VS1 = rewards[2] + VS3\n",
    "    VS2 = rewards[3] + VS3\n",
    "    \n",
    "    VS0 = probToState1 * (VS1 + rewards[0]) + (1 - probToState1) * (VS2 + rewards[1])\n",
    "    \n",
    "    return VS0"
   ]
  },
  {
   "cell_type": "code",
   "execution_count": 100,
   "metadata": {},
   "outputs": [
    {
     "data": {
      "text/plain": [
       "5.0"
      ]
     },
     "execution_count": 100,
     "metadata": {},
     "output_type": "execute_result"
    }
   ],
   "source": [
    "getTD1(0.5, [0, 3, 8, 2, 1, 2, 0], [0, 0, 0, 4, 1, 1, 1])"
   ]
  },
  {
   "cell_type": "code",
   "execution_count": 101,
   "metadata": {},
   "outputs": [],
   "source": [
    "def getEstimators(probToState1, valueEstimates, rewards):\n",
    "    E1 = getE1(probToState1, valueEstimates, rewards)\n",
    "    E2 = getE2(probToState1, valueEstimates, rewards)\n",
    "    E3 = getE3(probToState1, valueEstimates, rewards)\n",
    "    E4 = getE4(probToState1, valueEstimates, rewards)\n",
    "    E5 = getE5(probToState1, valueEstimates, rewards)\n",
    "    E6 = getE6(probToState1, valueEstimates, rewards)\n",
    "    \n",
    "    print((E1, E2, E3, E4, E5, E6))\n",
    "    return (E1, E2, E3, E4, E5, E6)"
   ]
  },
  {
   "cell_type": "code",
   "execution_count": 102,
   "metadata": {},
   "outputs": [
    {
     "name": "stdout",
     "output_type": "stream",
     "text": [
      "(5.5, 4.0, 4.0, 6.0, 5.0, 5.0)\n"
     ]
    },
    {
     "data": {
      "text/plain": [
       "(5.5, 4.0, 4.0, 6.0, 5.0, 5.0)"
      ]
     },
     "execution_count": 102,
     "metadata": {},
     "output_type": "execute_result"
    }
   ],
   "source": [
    "getEstimators(0.5, [0, 3, 8, 2, 1, 2, 0], [0, 0, 0, 4, 1, 1, 1])"
   ]
  },
  {
   "cell_type": "code",
   "execution_count": 103,
   "metadata": {},
   "outputs": [],
   "source": [
    "def findLambda(probToState1, valueEstimates, rewards):\n",
    "    E = getEstimators(probToState1, valueEstimates, rewards)\n",
    "\n",
    "    coeffs = [E[5] - E[4], E[4] - E[3], E[3] - E[2], E[2] - E[1], E[1] - E[0], E[0] - E[5]]\n",
    "\n",
    "    print(np.roots(coeffs))"
   ]
  },
  {
   "cell_type": "code",
   "execution_count": 105,
   "metadata": {},
   "outputs": [
    {
     "name": "stdout",
     "output_type": "stream",
     "text": [
      "(13.553, 6.0870000000000015, 35.187, 27.287000000000003, 16.687, 16.687)\n",
      "[-2.14692153  1.          0.6227695  -0.22113099]\n"
     ]
    }
   ],
   "source": [
    "# Example 1\n",
    "findLambda(0.81, [0.0,4.0,25.7,0.0,20.1,12.2,0.0], [7.9,-5.1,2.5,-7.2,9.0,0.0,1.6])"
   ]
  },
  {
   "cell_type": "code",
   "execution_count": 106,
   "metadata": {},
   "outputs": [
    {
     "name": "stdout",
     "output_type": "stream",
     "text": [
      "(-1.0479999999999998, 28.326, 22.126, 14.325999999999999, 23.526, 11.225999999999999)\n",
      "[-1.16015001+0.j         0.20622303+1.3010633j  0.20622303-1.3010633j\n",
      "  1.        +0.j         0.49567142+0.j       ]\n"
     ]
    }
   ],
   "source": [
    "# Example 2\n",
    "findLambda(0.22, [0.0,-5.2,0.0,25.4,10.6,9.2,12.3], [-2.4,0.8,4.0,2.5,8.6,-6.4,6.1])"
   ]
  },
  {
   "cell_type": "code",
   "execution_count": 107,
   "metadata": {},
   "outputs": [
    {
     "name": "stdout",
     "output_type": "stream",
     "text": [
      "(7.864, -5.336, 25.864, -11.935999999999998, -0.3360000000000003, 6.164000000000001)\n",
      "[-3.72950282+0.j          1.        +0.j          0.36969234+0.45229758j\n",
      "  0.36969234-0.45229758j  0.20550276+0.j        ]\n"
     ]
    }
   ],
   "source": [
    "# Example 2\n",
    "findLambda(0.64, [0.0,4.9,7.8,-2.3,25.5,-10.2,-6.5], [-2.4,9.6,-7.8,0.1,3.4,-2.1,7.9])"
   ]
  },
  {
   "cell_type": "code",
   "execution_count": 108,
   "metadata": {},
   "outputs": [
    {
     "name": "stdout",
     "output_type": "stream",
     "text": [
      "(6.386000000000001, 13.706000000000001, 27.206000000000003, 27.105999999999998, 30.005999999999997, 9.706000000000001)\n",
      "[ 1.        +0.j         -0.26013547+0.89792588j -0.26013547-0.89792588j\n",
      " -0.63266405+0.j          0.29579213+0.j        ]\n"
     ]
    }
   ],
   "source": [
    "# probToState=0.93,valueEstimates={0.0,0.0,0.0,6.6,14.2,17.4,20.3},rewards={6.4,6.2,1.0,-3.0,5.9,-3.3,0.0}\n",
    "findLambda(0.93, [0.0,0.0,0.0,6.6,14.2,17.4,20.3], [6.4,6.2,1.0,-3.0,5.9,-3.3,0.0])"
   ]
  },
  {
   "cell_type": "code",
   "execution_count": 109,
   "metadata": {},
   "outputs": [
    {
     "name": "stdout",
     "output_type": "stream",
     "text": [
      "(5.73, 13.745000000000001, 8.444999999999999, 6.144999999999999, 3.4449999999999994, 7.045)\n",
      "[-0.81250037+0.97972072j -0.81250037-0.97972072j  1.18467033+0.j\n",
      "  1.        +0.j          0.1903304 +0.j        ]\n"
     ]
    }
   ],
   "source": [
    "# probToState=0.55,valueEstimates={0.0,0.0,5.6,9.4,0.0,0.0,-3.6},rewards={2.4,4.2,-2.6,5.7,4.1,-2.3,0.9}\n",
    "findLambda(0.55, [0.0,0.0,5.6,9.4,0.0,0.0,-3.6], [2.4,4.2,-2.6,5.7,4.1,-2.3,0.9])"
   ]
  },
  {
   "cell_type": "code",
   "execution_count": 110,
   "metadata": {},
   "outputs": [
    {
     "name": "stdout",
     "output_type": "stream",
     "text": [
      "(0.7400000000000002, 4.540000000000001, 2.84, 12.74, 24.94, 2.94)\n",
      "[-0.78072824+0.j          1.        +0.j         -0.04733394+0.54375853j\n",
      " -0.04733394-0.54375853j  0.42994157+0.j        ]\n"
     ]
    }
   ],
   "source": [
    "# probToState=0.2,valueEstimates={0.0,23.0,0.0,3.1,-1.2,6.7,22.0},rewards={-4.9,-3.6,7.3,4.8,2.6,2.0,-3.1}\n",
    "findLambda(0.2, [0.0,23.0,0.0,3.1,-1.2,6.7,22.0], [-4.9,-3.6,7.3,4.8,2.6,2.0,-3.1])"
   ]
  },
  {
   "cell_type": "code",
   "execution_count": 111,
   "metadata": {},
   "outputs": [
    {
     "name": "stdout",
     "output_type": "stream",
     "text": [
      "(11.3, 16.4, 24.200000000000003, 34.800000000000004, 40.6, 15.7)\n",
      "[-0.76432026+0.j         -0.21930322+0.69450811j -0.21930322-0.69450811j\n",
      "  1.        +0.j          0.43585842+0.j        ]\n"
     ]
    }
   ],
   "source": [
    "# probToState=0.0,valueEstimates={0.0,5.5,4.7,0.0,8.6,23.6,24.9},rewards={6.1,6.6,2.6,9.8,-0.8,-4.4,4.5}\n",
    "findLambda(0.0, [0.0,5.5,4.7,0.0,8.6,23.6,24.9], [6.1,6.6,2.6,9.8,-0.8,-4.4,4.5])"
   ]
  },
  {
   "cell_type": "code",
   "execution_count": 112,
   "metadata": {},
   "outputs": [
    {
     "name": "stdout",
     "output_type": "stream",
     "text": [
      "(1.2099999999999995, 15.680000000000001, 28.98, 10.58, 19.78, 6.18)\n",
      "[ 0.02125703+1.37308586j  0.02125703-1.37308586j  1.        +0.j\n",
      " -0.65976171+0.j          0.29371824+0.j        ]\n"
     ]
    }
   ],
   "source": [
    "# probToState=0.9,valueEstimates={0.0,0.0,10.1,11.3,15.3,0.0,13.6},rewards={-0.7,8.3,4.3,3.1,9.3,-3.1,-4.4}\n",
    "findLambda(0.9, [0.0,0.0,10.1,11.3,15.3,0.0,13.6], [-0.7,8.3,4.3,3.1,9.3,-3.1,-4.4])"
   ]
  },
  {
   "cell_type": "code",
   "execution_count": 113,
   "metadata": {},
   "outputs": [
    {
     "name": "stdout",
     "output_type": "stream",
     "text": [
      "(-2.9459999999999997, 24.222, 6.922000000000001, 29.222, 19.722, 10.622)\n",
      "[-2.5301602 +0.j         -0.07661797+0.95692001j -0.07661797-0.95692001j\n",
      "  1.        +0.j          0.63944011+0.j        ]\n"
     ]
    }
   ],
   "source": [
    "# probToState=0.38,valueEstimates={0.0,-3.0,0.0,24.6,2.2,16.3,9.1},rewards={-1.0,-2.3,-1.3,3.1,5.1,8.2,-2.3}\n",
    "findLambda(0.38, [0.0,-3.0,0.0,24.6,2.2,16.3,9.1], [-1.0,-2.3,-1.3,3.1,5.1,8.2,-2.3])"
   ]
  },
  {
   "cell_type": "code",
   "execution_count": 114,
   "metadata": {},
   "outputs": [
    {
     "name": "stdout",
     "output_type": "stream",
     "text": [
      "(4.243999999999999, 0.6889999999999994, 10.489, 31.488999999999997, 6.388999999999999, 6.388999999999999)\n",
      "[ 1.        +0.j          0.54360212+0.j         -0.35347437+0.17961924j\n",
      " -0.35347437-0.17961924j]\n"
     ]
    }
   ],
   "source": [
    "# probToState=0.81,valueEstimates={0.0,0.0,18.5,1.6,9.0,20.6,0.0},rewards={0.9,0.0,-4.3,9.7,2.4,9.4,-4.5}\n",
    "findLambda(0.81, [0.0,0.0,18.5,1.6,9.0,20.6,0.0], [0.9,0.0,-4.3,9.7,2.4,9.4,-4.5])"
   ]
  },
  {
   "cell_type": "code",
   "execution_count": 116,
   "metadata": {},
   "outputs": [
    {
     "name": "stdout",
     "output_type": "stream",
     "text": [
      "(-3.74, 3.058, 15.458, 9.258, 13.358, 0.05799999999999961)\n",
      "[-0.2185295 +1.10610594j -0.2185295 -1.10610594j -0.61810084+0.j\n",
      "  1.        +0.j          0.36343052+0.j        ]\n"
     ]
    }
   ],
   "source": [
    "# probToState=0.63,valueEstimates={0.0,0.0,-1.5,0.0,12.4,7.9,13.3},rewards={-3.0,-3.5,4.8,8.7,0.0,-1.7,-1.3}\n",
    "findLambda(0.63, [0.0,0.0,-1.5,0.0,12.4,7.9,13.3], [-3.0,-3.5,4.8,8.7,0.0,-1.7,-1.3])"
   ]
  },
  {
   "cell_type": "code",
   "execution_count": 117,
   "metadata": {},
   "outputs": [
    {
     "name": "stdout",
     "output_type": "stream",
     "text": [
      "(22.426000000000002, -4.0680000000000005, 19.332, 4.531999999999999, 17.631999999999998, 13.432)\n",
      "[ 2.15128669+0.j         -0.29287885+1.30865089j -0.29287885-1.30865089j\n",
      "  1.        +0.j          0.55351864+0.j        ]\n"
     ]
    }
   ],
   "source": [
    "# probToState=0.98,valueEstimates={0.0,21.7,21.6,0.0,22.5,0.0,4.2},rewards={0.8,-2.8,-4.9,0.3,0.9,7.7,8.9}\n",
    "findLambda(0.98, [0.0,21.7,21.6,0.0,22.5,0.0,4.2], [0.8,-2.8,-4.9,0.3,0.9,7.7,8.9])\n"
   ]
  },
  {
   "cell_type": "code",
   "execution_count": 118,
   "metadata": {},
   "outputs": [
    {
     "name": "stdout",
     "output_type": "stream",
     "text": [
      "(10.0, 19.3, 35.599999999999994, 18.1, 30.900000000000002, 18.1)\n",
      "[ 0.02233179+1.31666453j  0.02233179-1.31666453j -0.62683204+0.j\n",
      "  1.        +0.j          0.58216847+0.j        ]\n"
     ]
    }
   ],
   "source": [
    "# probToState=1.0,valueEstimates={0.0,4.7,0.0,9.0,20.4,0.0,12.8},rewards={5.3,3.5,5.0,-3.6,4.9,2.9,0.0}\n",
    "findLambda(1.0, [0.0,4.7,0.0,9.0,20.4,0.0,12.8], [5.3,3.5,5.0,-3.6,4.9,2.9,0.0])\n"
   ]
  },
  {
   "cell_type": "code",
   "execution_count": null,
   "metadata": {},
   "outputs": [],
   "source": []
  }
 ],
 "metadata": {
  "kernelspec": {
   "display_name": "Python 3",
   "language": "python",
   "name": "python3"
  },
  "language_info": {
   "codemirror_mode": {
    "name": "ipython",
    "version": 3
   },
   "file_extension": ".py",
   "mimetype": "text/x-python",
   "name": "python",
   "nbconvert_exporter": "python",
   "pygments_lexer": "ipython3",
   "version": "3.4.5"
  }
 },
 "nbformat": 4,
 "nbformat_minor": 2
}
